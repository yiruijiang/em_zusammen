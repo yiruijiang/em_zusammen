{
 "cells": [
  {
   "cell_type": "markdown",
   "id": "b3dcdd1f",
   "metadata": {},
   "source": [
    "# 💰 Introduction to IBKR"
   ]
  },
  {
   "cell_type": "code",
   "execution_count": 1,
   "id": "a7fc1d96",
   "metadata": {},
   "outputs": [],
   "source": [
    "import asyncio\n",
    "\n",
    "from ib_insync import IB, Stock"
   ]
  },
  {
   "cell_type": "code",
   "execution_count": null,
   "id": "3ad6b7ae",
   "metadata": {},
   "outputs": [],
   "source": []
  },
  {
   "cell_type": "code",
   "execution_count": null,
   "id": "c03235b0",
   "metadata": {},
   "outputs": [],
   "source": [
    "async def retrieve_historical_stock_data():\n",
    "    \n",
    "    LOCAL_IP = \"127.0.0.1\"\n",
    "    PORT = 7497\n",
    "    CLIENT_ID = 1\n",
    "    ib = IB()\n",
    "    await ib.connectAsync(LOCAL_IP, PORT, clientId=CLIENT_ID)\n",
    "\n",
    "    contract = Stock('AAPL', 'SMART', 'USD')\n",
    "    ib.qualifyContracts(contract)\n",
    "\n",
    "\n",
    "    bars = ib.reqHistoricalData(\n",
    "        contract,\n",
    "        endDateTime='',\n",
    "        durationStr='2 Y',\n",
    "        barSizeSetting='1 day',\n",
    "        whatToShow='TRADES',\n",
    "        useRTH=False,\n",
    "        formatDate=1\n",
    "    )\n",
    "\n",
    "    ib.disconnect()\n",
    "    return bars"
   ]
  },
  {
   "cell_type": "code",
   "execution_count": null,
   "id": "0ac8fc0d",
   "metadata": {},
   "outputs": [
    {
     "ename": "RuntimeError",
     "evalue": "This event loop is already running",
     "output_type": "error",
     "traceback": [
      "\u001b[31m---------------------------------------------------------------------------\u001b[39m",
      "\u001b[31mRuntimeError\u001b[39m                              Traceback (most recent call last)",
      "\u001b[36mCell\u001b[39m\u001b[36m \u001b[39m\u001b[32mIn[4]\u001b[39m\u001b[32m, line 1\u001b[39m\n\u001b[32m----> \u001b[39m\u001b[32m1\u001b[39m bars = \u001b[38;5;28;01mawait\u001b[39;00m retrieve_historical_stock_data()\n",
      "\u001b[36mCell\u001b[39m\u001b[36m \u001b[39m\u001b[32mIn[3]\u001b[39m\u001b[32m, line 7\u001b[39m, in \u001b[36mretrieve_historical_stock_data\u001b[39m\u001b[34m()\u001b[39m\n\u001b[32m      4\u001b[39m \u001b[38;5;28;01mawait\u001b[39;00m ib.connectAsync(LOCAL_IP, PORT, clientId=CLIENT_ID)\n\u001b[32m      6\u001b[39m contract = Stock(\u001b[33m'\u001b[39m\u001b[33mAAPL\u001b[39m\u001b[33m'\u001b[39m, \u001b[33m'\u001b[39m\u001b[33mSMART\u001b[39m\u001b[33m'\u001b[39m, \u001b[33m'\u001b[39m\u001b[33mUSD\u001b[39m\u001b[33m'\u001b[39m)\n\u001b[32m----> \u001b[39m\u001b[32m7\u001b[39m \u001b[43mib\u001b[49m\u001b[43m.\u001b[49m\u001b[43mqualifyContracts\u001b[49m\u001b[43m(\u001b[49m\u001b[43mcontract\u001b[49m\u001b[43m)\u001b[49m\n\u001b[32m     10\u001b[39m bars = ib.reqHistoricalData(\n\u001b[32m     11\u001b[39m     contract,\n\u001b[32m     12\u001b[39m     endDateTime=\u001b[33m'\u001b[39m\u001b[33m'\u001b[39m,\n\u001b[32m   (...)\u001b[39m\u001b[32m     17\u001b[39m     formatDate=\u001b[32m1\u001b[39m\n\u001b[32m     18\u001b[39m )\n\u001b[32m     20\u001b[39m ib.disconnect()\n",
      "\u001b[36mFile \u001b[39m\u001b[32m~/miniconda3/envs/ibkr/lib/python3.11/site-packages/ib_insync/ib.py:570\u001b[39m, in \u001b[36mIB.qualifyContracts\u001b[39m\u001b[34m(self, *contracts)\u001b[39m\n\u001b[32m    558\u001b[39m \u001b[38;5;28;01mdef\u001b[39;00m\u001b[38;5;250m \u001b[39m\u001b[34mqualifyContracts\u001b[39m(\u001b[38;5;28mself\u001b[39m, *contracts: Contract) -> List[Contract]:\n\u001b[32m    559\u001b[39m \u001b[38;5;250m    \u001b[39m\u001b[33;03m\"\"\"\u001b[39;00m\n\u001b[32m    560\u001b[39m \u001b[33;03m    Fully qualify the given contracts in-place. This will fill in\u001b[39;00m\n\u001b[32m    561\u001b[39m \u001b[33;03m    the missing fields in the contract, especially the conId.\u001b[39;00m\n\u001b[32m   (...)\u001b[39m\u001b[32m    568\u001b[39m \u001b[33;03m        contracts: Contracts to qualify.\u001b[39;00m\n\u001b[32m    569\u001b[39m \u001b[33;03m    \"\"\"\u001b[39;00m\n\u001b[32m--> \u001b[39m\u001b[32m570\u001b[39m     \u001b[38;5;28;01mreturn\u001b[39;00m \u001b[38;5;28;43mself\u001b[39;49m\u001b[43m.\u001b[49m\u001b[43m_run\u001b[49m\u001b[43m(\u001b[49m\u001b[38;5;28;43mself\u001b[39;49m\u001b[43m.\u001b[49m\u001b[43mqualifyContractsAsync\u001b[49m\u001b[43m(\u001b[49m\u001b[43m*\u001b[49m\u001b[43mcontracts\u001b[49m\u001b[43m)\u001b[49m\u001b[43m)\u001b[49m\n",
      "\u001b[36mFile \u001b[39m\u001b[32m~/miniconda3/envs/ibkr/lib/python3.11/site-packages/ib_insync/ib.py:318\u001b[39m, in \u001b[36mIB._run\u001b[39m\u001b[34m(self, *awaitables)\u001b[39m\n\u001b[32m    317\u001b[39m \u001b[38;5;28;01mdef\u001b[39;00m\u001b[38;5;250m \u001b[39m\u001b[34m_run\u001b[39m(\u001b[38;5;28mself\u001b[39m, *awaitables: Awaitable):\n\u001b[32m--> \u001b[39m\u001b[32m318\u001b[39m     \u001b[38;5;28;01mreturn\u001b[39;00m \u001b[43mutil\u001b[49m\u001b[43m.\u001b[49m\u001b[43mrun\u001b[49m\u001b[43m(\u001b[49m\u001b[43m*\u001b[49m\u001b[43mawaitables\u001b[49m\u001b[43m,\u001b[49m\u001b[43m \u001b[49m\u001b[43mtimeout\u001b[49m\u001b[43m=\u001b[49m\u001b[38;5;28;43mself\u001b[39;49m\u001b[43m.\u001b[49m\u001b[43mRequestTimeout\u001b[49m\u001b[43m)\u001b[49m\n",
      "\u001b[36mFile \u001b[39m\u001b[32m~/miniconda3/envs/ibkr/lib/python3.11/site-packages/ib_insync/util.py:341\u001b[39m, in \u001b[36mrun\u001b[39m\u001b[34m(timeout, *awaitables)\u001b[39m\n\u001b[32m    339\u001b[39m globalErrorEvent.connect(onError)\n\u001b[32m    340\u001b[39m \u001b[38;5;28;01mtry\u001b[39;00m:\n\u001b[32m--> \u001b[39m\u001b[32m341\u001b[39m     result = \u001b[43mloop\u001b[49m\u001b[43m.\u001b[49m\u001b[43mrun_until_complete\u001b[49m\u001b[43m(\u001b[49m\u001b[43mtask\u001b[49m\u001b[43m)\u001b[49m\n\u001b[32m    342\u001b[39m \u001b[38;5;28;01mexcept\u001b[39;00m asyncio.CancelledError \u001b[38;5;28;01mas\u001b[39;00m e:\n\u001b[32m    343\u001b[39m     \u001b[38;5;28;01mraise\u001b[39;00m globalErrorEvent.value() \u001b[38;5;129;01mor\u001b[39;00m e\n",
      "\u001b[36mFile \u001b[39m\u001b[32m~/miniconda3/envs/ibkr/lib/python3.11/asyncio/base_events.py:630\u001b[39m, in \u001b[36mBaseEventLoop.run_until_complete\u001b[39m\u001b[34m(self, future)\u001b[39m\n\u001b[32m    619\u001b[39m \u001b[38;5;250m\u001b[39m\u001b[33;03m\"\"\"Run until the Future is done.\u001b[39;00m\n\u001b[32m    620\u001b[39m \n\u001b[32m    621\u001b[39m \u001b[33;03mIf the argument is a coroutine, it is wrapped in a Task.\u001b[39;00m\n\u001b[32m   (...)\u001b[39m\u001b[32m    627\u001b[39m \u001b[33;03mReturn the Future's result, or raise its exception.\u001b[39;00m\n\u001b[32m    628\u001b[39m \u001b[33;03m\"\"\"\u001b[39;00m\n\u001b[32m    629\u001b[39m \u001b[38;5;28mself\u001b[39m._check_closed()\n\u001b[32m--> \u001b[39m\u001b[32m630\u001b[39m \u001b[38;5;28;43mself\u001b[39;49m\u001b[43m.\u001b[49m\u001b[43m_check_running\u001b[49m\u001b[43m(\u001b[49m\u001b[43m)\u001b[49m\n\u001b[32m    632\u001b[39m new_task = \u001b[38;5;129;01mnot\u001b[39;00m futures.isfuture(future)\n\u001b[32m    633\u001b[39m future = tasks.ensure_future(future, loop=\u001b[38;5;28mself\u001b[39m)\n",
      "\u001b[36mFile \u001b[39m\u001b[32m~/miniconda3/envs/ibkr/lib/python3.11/asyncio/base_events.py:589\u001b[39m, in \u001b[36mBaseEventLoop._check_running\u001b[39m\u001b[34m(self)\u001b[39m\n\u001b[32m    587\u001b[39m \u001b[38;5;28;01mdef\u001b[39;00m\u001b[38;5;250m \u001b[39m\u001b[34m_check_running\u001b[39m(\u001b[38;5;28mself\u001b[39m):\n\u001b[32m    588\u001b[39m     \u001b[38;5;28;01mif\u001b[39;00m \u001b[38;5;28mself\u001b[39m.is_running():\n\u001b[32m--> \u001b[39m\u001b[32m589\u001b[39m         \u001b[38;5;28;01mraise\u001b[39;00m \u001b[38;5;167;01mRuntimeError\u001b[39;00m(\u001b[33m'\u001b[39m\u001b[33mThis event loop is already running\u001b[39m\u001b[33m'\u001b[39m)\n\u001b[32m    590\u001b[39m     \u001b[38;5;28;01mif\u001b[39;00m events._get_running_loop() \u001b[38;5;129;01mis\u001b[39;00m \u001b[38;5;129;01mnot\u001b[39;00m \u001b[38;5;28;01mNone\u001b[39;00m:\n\u001b[32m    591\u001b[39m         \u001b[38;5;28;01mraise\u001b[39;00m \u001b[38;5;167;01mRuntimeError\u001b[39;00m(\n\u001b[32m    592\u001b[39m             \u001b[33m'\u001b[39m\u001b[33mCannot run the event loop while another loop is running\u001b[39m\u001b[33m'\u001b[39m)\n",
      "\u001b[31mRuntimeError\u001b[39m: This event loop is already running"
     ]
    }
   ],
   "source": []
  },
  {
   "cell_type": "code",
   "execution_count": null,
   "id": "d2a657fa",
   "metadata": {},
   "outputs": [],
   "source": []
  }
 ],
 "metadata": {
  "kernelspec": {
   "display_name": "ibkr",
   "language": "python",
   "name": "python3"
  },
  "language_info": {
   "codemirror_mode": {
    "name": "ipython",
    "version": 3
   },
   "file_extension": ".py",
   "mimetype": "text/x-python",
   "name": "python",
   "nbconvert_exporter": "python",
   "pygments_lexer": "ipython3",
   "version": "3.11.11"
  }
 },
 "nbformat": 4,
 "nbformat_minor": 5
}
