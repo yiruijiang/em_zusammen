{
 "cells": [
  {
   "cell_type": "markdown",
   "id": "b3dcdd1f",
   "metadata": {},
   "source": [
    "# 💰 Introduction to IBKR"
   ]
  },
  {
   "cell_type": "code",
   "execution_count": 1,
   "id": "3ad6b7ae",
   "metadata": {},
   "outputs": [],
   "source": [
    "import pandas as pd"
   ]
  },
  {
   "cell_type": "code",
   "execution_count": null,
   "id": "d2a657fa",
   "metadata": {},
   "outputs": [],
   "source": []
  }
 ],
 "metadata": {
  "kernelspec": {
   "display_name": "ibkr",
   "language": "python",
   "name": "python3"
  },
  "language_info": {
   "codemirror_mode": {
    "name": "ipython",
    "version": 3
   },
   "file_extension": ".py",
   "mimetype": "text/x-python",
   "name": "python",
   "nbconvert_exporter": "python",
   "pygments_lexer": "ipython3",
   "version": "3.11.11"
  }
 },
 "nbformat": 4,
 "nbformat_minor": 5
}
